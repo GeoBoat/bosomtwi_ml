{
 "cells": [
  {
   "cell_type": "code",
   "execution_count": 1,
   "metadata": {},
   "outputs": [],
   "source": [
    "import pandas as pd\n",
    "import numpy as np\n"
   ]
  },
  {
   "cell_type": "code",
   "execution_count": 17,
   "metadata": {},
   "outputs": [],
   "source": [
    "def resample(df: pd.DataFrame, well: str):\n",
    "    temp_df = df.copy(deep=True)\n",
    "\n",
    "    # depth data is rounded to the nearest 0.5\n",
    "    temp_df[\"depth\"] = temp_df[\"depth\"].apply(lambda x: round(x*2)/2)\n",
    "\n",
    "    # for each depth value we need only one property value\n",
    "    temp_df = temp_df.groupby(\"depth\").mean()\n",
    "\n",
    "    depth_resampled = None\n",
    "    if well == \"lb-07A\":\n",
    "        depth_resampled = np.arange(335, 513.5, 0.5)\n",
    "    elif well == \"lb-08A\":\n",
    "        depth_resampled = np.arange(225, 450.5, 0.5)\n",
    "    else:\n",
    "        raise Exception\n",
    "\n",
    "    temp_df = temp_df.reindex(temp_df.index.union(depth_resampled))\n",
    "\n",
    "    # interpolate NaN values\n",
    "    temp_df = temp_df.interpolate(\n",
    "        method='spline', order=1, limit_direction=\"both\")\n",
    "\n",
    "    return temp_df\n"
   ]
  },
  {
   "cell_type": "markdown",
   "metadata": {},
   "source": [
    "### LB-07A"
   ]
  },
  {
   "cell_type": "code",
   "execution_count": 15,
   "metadata": {},
   "outputs": [],
   "source": [
    "LB_07A_BASE_PATH = \"raw/LB-07A/\"\n",
    "density_lb07_df = pd.read_csv(\n",
    "    LB_07A_BASE_PATH+\"lb07_density.csv\", names=[\"depth\", \"density\"])\n",
    "caliper_lb07_df = pd.read_csv(\n",
    "    LB_07A_BASE_PATH+\"lb07_caliper.csv\", names=[\"depth\", \"caliper\"])\n",
    "mag_suscep_lb07_df = pd.read_csv(\n",
    "    LB_07A_BASE_PATH+\"lb07_mag_suscep.csv\", names=[\"depth\", \"mag_suscep\"])\n",
    "scaler_tmi_lb07_df = pd.read_csv(\n",
    "    LB_07A_BASE_PATH+\"lb07_scaler_tmi.csv\", names=[\"depth\", \"scaler_tmi\"])\n",
    "total_gamma_lb07_df = pd.read_csv(\n",
    "    LB_07A_BASE_PATH+\"lb07_total_gamma.csv\", names=[\"depth\", \"total_gamma\"])\n",
    "\n",
    "lb07A_raw_data = [density_lb07_df, caliper_lb07_df,\n",
    "                  mag_suscep_lb07_df, scaler_tmi_lb07_df, total_gamma_lb07_df]\n"
   ]
  },
  {
   "cell_type": "code",
   "execution_count": 19,
   "metadata": {},
   "outputs": [],
   "source": [
    "lb07A_resampled_data: None | pd.DataFrame = None\n",
    "\n",
    "for raw_df in lb07A_raw_data:\n",
    "    resampled_df = resample(raw_df, \"lb-07A\")\n",
    "\n",
    "    if lb07A_resampled_data is None:\n",
    "        lb07A_resampled_data = resampled_df\n",
    "    else:\n",
    "        lb07A_resampled_data = pd.concat(\n",
    "            [lb07A_resampled_data, resampled_df], axis=1)\n",
    "\n",
    "lb07A_resampled_data.reset_index(inplace=True)\n"
   ]
  },
  {
   "cell_type": "markdown",
   "metadata": {},
   "source": [
    "Labelling"
   ]
  },
  {
   "cell_type": "code",
   "execution_count": null,
   "metadata": {},
   "outputs": [],
   "source": [
    "def label_lb_07A_lithology(depth):\n",
    "    if (335 <= depth <= 431):\n",
    "        return \"polymict_lithic_breccia\"\n",
    "    elif ()\n"
   ]
  },
  {
   "cell_type": "markdown",
   "metadata": {},
   "source": [
    "### LB-08A"
   ]
  },
  {
   "cell_type": "markdown",
   "metadata": {},
   "source": [
    "Loading data"
   ]
  },
  {
   "cell_type": "code",
   "execution_count": null,
   "metadata": {},
   "outputs": [],
   "source": [
    "LB_08A_BASE_PATH = \"raw/LB-08A/\"\n",
    "density_df = pd.read_csv(\n",
    "    LB_08A_BASE_PATH+\"lb08_density.csv\", names=[\"depth\", \"density\"])\n",
    "caliper_df = pd.read_csv(\n",
    "    LB_08A_BASE_PATH+\"lb08_caliper.csv\", names=[\"depth\", \"caliper\"])\n",
    "mag_suscep_df = pd.read_csv(\n",
    "    LB_08A_BASE_PATH+\"lb08_mag_suscep.csv\", names=[\"depth\", \"mag_suscep\"])\n",
    "scaler_tmi_df = pd.read_csv(\n",
    "    LB_08A_BASE_PATH+\"lb08_scaler_tmi.csv\", names=[\"depth\", \"scaler_tmi\"])\n",
    "total_gamma_df = pd.read_csv(\n",
    "    LB_08A_BASE_PATH+\"lb08_total_gamma.csv\", names=[\"depth\", \"total_gamma\"])\n",
    "\n",
    "lb08A_raw_data = [density_df, caliper_df,\n",
    "                  mag_suscep_df, scaler_tmi_df, total_gamma_df]\n"
   ]
  },
  {
   "cell_type": "markdown",
   "metadata": {},
   "source": [
    "Resampling "
   ]
  },
  {
   "cell_type": "code",
   "execution_count": null,
   "metadata": {},
   "outputs": [],
   "source": [
    "lb08A_resampled_data: None | pd.DataFrame = None\n",
    "\n",
    "for raw_df in lb08A_raw_data:\n",
    "    resampled_df = resample(raw_df)\n",
    "\n",
    "    if lb08A_resampled_data is None:\n",
    "        lb08A_resampled_data = resampled_df\n",
    "    else:\n",
    "        lb08A_resampled_data = pd.concat(\n",
    "            [lb08A_resampled_data, resampled_df], axis=1)\n",
    "\n",
    "g = lb08A_resampled_data.reset_index()\n"
   ]
  },
  {
   "cell_type": "markdown",
   "metadata": {},
   "source": [
    "Labeling"
   ]
  },
  {
   "cell_type": "code",
   "execution_count": null,
   "metadata": {},
   "outputs": [],
   "source": []
  }
 ],
 "metadata": {
  "kernelspec": {
   "display_name": "Python 3.10.7 64-bit",
   "language": "python",
   "name": "python3"
  },
  "language_info": {
   "codemirror_mode": {
    "name": "ipython",
    "version": 3
   },
   "file_extension": ".py",
   "mimetype": "text/x-python",
   "name": "python",
   "nbconvert_exporter": "python",
   "pygments_lexer": "ipython3",
   "version": "3.10.7"
  },
  "orig_nbformat": 4,
  "vscode": {
   "interpreter": {
    "hash": "26de051ba29f2982a8de78e945f0abaf191376122a1563185a90213a26c5da77"
   }
  }
 },
 "nbformat": 4,
 "nbformat_minor": 2
}
