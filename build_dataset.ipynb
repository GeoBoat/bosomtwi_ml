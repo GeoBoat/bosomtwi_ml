{
 "cells": [
  {
   "cell_type": "code",
   "execution_count": 1,
   "metadata": {},
   "outputs": [],
   "source": [
    "import pandas as pd\n",
    "import numpy as np\n"
   ]
  },
  {
   "cell_type": "code",
   "execution_count": 2,
   "metadata": {},
   "outputs": [],
   "source": [
    "def resample(df: pd.DataFrame, well: str):\n",
    "    temp_df = df.copy(deep=True)\n",
    "\n",
    "    # depth data is rounded to the nearest 0.5\n",
    "    temp_df[\"depth\"] = temp_df[\"depth\"].apply(lambda x: round(x*2)/2)\n",
    "\n",
    "    # for each depth value we need only one property value\n",
    "    temp_df = temp_df.groupby(\"depth\").mean()\n",
    "\n",
    "    depth_resampled = None\n",
    "    if well == \"lb-07A\":\n",
    "        depth_resampled = np.arange(335, 545.5, 0.5)\n",
    "    elif well == \"lb-08A\":\n",
    "        depth_resampled = np.arange(225, 450.5, 0.5)\n",
    "    else:\n",
    "        raise Exception\n",
    "\n",
    "    temp_df = temp_df.reindex(temp_df.index.union(depth_resampled))\n",
    "\n",
    "    # interpolate values\n",
    "    temp_df = temp_df.interpolate(\n",
    "        method='spline', order=2, limit_direction=\"both\")\n",
    "\n",
    "    return temp_df\n"
   ]
  },
  {
   "cell_type": "code",
   "execution_count": 3,
   "metadata": {},
   "outputs": [],
   "source": [
    "# Lithologies\n",
    "plbr = \"polymict lithic breccia\"\n",
    "suvt = \"suevite\"\n",
    "mgrw = \"metagreywacke\"\n",
    "mlbr = \"monomict lithic breccia\"\n",
    "ssps = \"shale slate phyllite schist\"\n"
   ]
  },
  {
   "cell_type": "markdown",
   "metadata": {},
   "source": [
    "### LB-07A\n"
   ]
  },
  {
   "cell_type": "code",
   "execution_count": 5,
   "metadata": {},
   "outputs": [],
   "source": [
    "density_lb07_df = pd.read_csv(\n",
    "    \"raw/LB-07A/lb07_density.csv\", names=[\"depth\", \"density\"])\n",
    "caliper_lb07_df = pd.read_csv(\n",
    "    \"raw/LB-07A/lb07_caliper.csv\", names=[\"depth\", \"caliper\"])\n",
    "mag_suscep_lb07_df = pd.read_csv(\n",
    "    \"raw/LB-07A/lb07_mag_suscep.csv\", names=[\"depth\", \"mag_suscep\"])\n",
    "scaler_tmi_lb07_df = pd.read_csv(\n",
    "    \"raw/LB-07A/lb07_scaler_tmi.csv\", names=[\"depth\", \"scaler_tmi\"])\n",
    "total_gamma_lb07_df = pd.read_csv(\n",
    "    \"raw/LB-07A/lb07_total_gamma.csv\", names=[\"depth\", \"total_gamma\"])\n",
    "\n",
    "lb07A_raw_data = [density_lb07_df, caliper_lb07_df,\n",
    "                  mag_suscep_lb07_df, scaler_tmi_lb07_df, total_gamma_lb07_df]\n"
   ]
  },
  {
   "cell_type": "code",
   "execution_count": 6,
   "metadata": {},
   "outputs": [],
   "source": [
    "lb07A_resampled_data: None | pd.DataFrame = None\n",
    "\n",
    "for raw_df in lb07A_raw_data:\n",
    "    resampled_df = resample(raw_df, \"lb-07A\")\n",
    "\n",
    "    if lb07A_resampled_data is None:\n",
    "        lb07A_resampled_data = resampled_df\n",
    "    else:\n",
    "        lb07A_resampled_data = pd.concat(\n",
    "            [lb07A_resampled_data, resampled_df], axis=1)\n",
    "\n",
    "lb07A_resampled_data.reset_index(inplace=True)\n"
   ]
  },
  {
   "cell_type": "code",
   "execution_count": 7,
   "metadata": {},
   "outputs": [],
   "source": [
    "def label_lb_07A_lithology(depth):\n",
    "    if (depth <= 359):\n",
    "        return plbr\n",
    "    elif (depth <= 369):\n",
    "        return suvt\n",
    "    elif (depth <= 378):\n",
    "        return plbr\n",
    "    elif (depth <= 389):\n",
    "        return suvt\n",
    "    elif (depth <= 394):\n",
    "        return plbr\n",
    "    elif (depth <= 414):\n",
    "        return suvt\n",
    "    elif (depth <= 470):\n",
    "        return mlbr\n",
    "    elif (depth <= 481):\n",
    "        return ssps\n",
    "    elif (depth <= 488):\n",
    "        return mgrw\n",
    "    elif (depth <= 509):\n",
    "        return ssps\n",
    "    elif (depth <= 512):\n",
    "        return mgrw\n",
    "    elif (depth <= 545):\n",
    "        return ssps\n"
   ]
  },
  {
   "cell_type": "code",
   "execution_count": 8,
   "metadata": {},
   "outputs": [],
   "source": [
    "lb07A_labelled_data = lb07A_resampled_data.copy(deep=True)\n",
    "lb07A_labelled_data[\"lithology\"] = lb07A_resampled_data[\"depth\"].apply(\n",
    "    lambda depth: label_lb_07A_lithology(depth))\n",
    "\n",
    "lb07A_labelled_data.to_csv(\"datasets/LB-07A\", index=False)\n"
   ]
  },
  {
   "cell_type": "markdown",
   "metadata": {},
   "source": [
    "### LB-08A\n"
   ]
  },
  {
   "cell_type": "code",
   "execution_count": 10,
   "metadata": {},
   "outputs": [],
   "source": [
    "LB_08A_BASE_PATH = \"raw/LB-08A/\"\n",
    "density_df = pd.read_csv(\n",
    "    \"raw/LB-08A/lb08_density.csv\", names=[\"depth\", \"density\"])\n",
    "caliper_df = pd.read_csv(\n",
    "    \"raw/LB-08A/lb08_caliper.csv\", names=[\"depth\", \"caliper\"])\n",
    "mag_suscep_df = pd.read_csv(\n",
    "    \"raw/LB-08A/lb08_mag_suscep.csv\", names=[\"depth\", \"mag_suscep\"])\n",
    "scaler_tmi_df = pd.read_csv(\n",
    "    \"raw/LB-08A/lb08_scaler_tmi.csv\", names=[\"depth\", \"scaler_tmi\"])\n",
    "total_gamma_df = pd.read_csv(\n",
    "    \"raw/LB-08A/lb08_total_gamma.csv\", names=[\"depth\", \"total_gamma\"])\n",
    "\n",
    "lb08A_raw_data = [density_df, caliper_df,\n",
    "                  mag_suscep_df, scaler_tmi_df, total_gamma_df]\n"
   ]
  },
  {
   "cell_type": "code",
   "execution_count": 12,
   "metadata": {},
   "outputs": [],
   "source": [
    "lb08A_resampled_data: None | pd.DataFrame = None\n",
    "\n",
    "for raw_df in lb08A_raw_data:\n",
    "    resampled_df = resample(raw_df, \"lb-08A\")\n",
    "\n",
    "    if lb08A_resampled_data is None:\n",
    "        lb08A_resampled_data = resampled_df\n",
    "    else:\n",
    "        lb08A_resampled_data = pd.concat(\n",
    "            [lb08A_resampled_data, resampled_df], axis=1)\n",
    "\n",
    "lb08A_resampled_data.reset_index(inplace=True)\n"
   ]
  },
  {
   "cell_type": "code",
   "execution_count": 13,
   "metadata": {},
   "outputs": [],
   "source": [
    "def label_lb_08A_lithology(depth):\n",
    "    if (depth <= 258):\n",
    "        return plbr\n",
    "    elif (depth <= 263):\n",
    "        return suvt\n",
    "    elif (depth <= 268):\n",
    "        return ssps\n",
    "    elif (depth <= 280):\n",
    "        return mgrw\n",
    "    elif (depth <= 295):\n",
    "        return ssps  # double check\n",
    "    elif (depth <= 315):\n",
    "        return mgrw\n",
    "    elif (depth <= 318):\n",
    "        return mgrw\n",
    "    elif (depth <= 323):\n",
    "        return ssps\n",
    "    elif (depth <= 325):\n",
    "        return mgrw\n",
    "    elif (depth <= 332):\n",
    "        return mgrw\n",
    "    elif (depth <= 338):\n",
    "        return ssps\n",
    "    elif (depth <= 344):\n",
    "        return mgrw\n",
    "    elif (depth <= 347):\n",
    "        return ssps\n",
    "    elif (depth <= 349):\n",
    "        return mgrw\n",
    "    elif (depth <= 358):\n",
    "        return ssps\n",
    "    elif (depth <= 389):\n",
    "        return mgrw\n",
    "    elif (depth <= 364):\n",
    "        return ssps\n",
    "    elif (depth <= 382):\n",
    "        return mgrw\n",
    "    elif (depth <= 389):\n",
    "        return ssps\n",
    "    elif (depth <= 439):\n",
    "        return mgrw\n",
    "    elif (depth <= 450):\n",
    "        return mgrw\n"
   ]
  },
  {
   "cell_type": "code",
   "execution_count": null,
   "metadata": {},
   "outputs": [],
   "source": [
    "lb08A_labelled_data = lb08A_resampled_data.copy(deep=True)\n",
    "lb08A_labelled_data[\"lithology\"] = lb08A_resampled_data[\"depth\"].apply(\n",
    "    lambda depth: label_lb_08A_lithology(depth))\n",
    "\n",
    "lb08A_labelled_data.to_csv(\"datasets/LB-08A\", index=False)\n"
   ]
  }
 ],
 "metadata": {
  "kernelspec": {
   "display_name": "Python 3.10.7 64-bit",
   "language": "python",
   "name": "python3"
  },
  "language_info": {
   "codemirror_mode": {
    "name": "ipython",
    "version": 3
   },
   "file_extension": ".py",
   "mimetype": "text/x-python",
   "name": "python",
   "nbconvert_exporter": "python",
   "pygments_lexer": "ipython3",
   "version": "3.10.7"
  },
  "orig_nbformat": 4,
  "vscode": {
   "interpreter": {
    "hash": "26de051ba29f2982a8de78e945f0abaf191376122a1563185a90213a26c5da77"
   }
  }
 },
 "nbformat": 4,
 "nbformat_minor": 2
}
