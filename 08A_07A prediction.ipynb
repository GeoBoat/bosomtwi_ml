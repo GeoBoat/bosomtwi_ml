{
 "cells": [
  {
   "cell_type": "code",
   "execution_count": 1,
   "metadata": {},
   "outputs": [],
   "source": [
    "import pandas as pd\n",
    "import numpy as np\n",
    "\n",
    "from sklearn.metrics import roc_curve, auc, confusion_matrix\n",
    "from sklearn.model_selection import cross_validate\n",
    "\n",
    "from sklearn.preprocessing import LabelEncoder\n",
    "\n",
    "from sklearn.ensemble import RandomForestClassifier"
   ]
  },
  {
   "cell_type": "code",
   "execution_count": 2,
   "metadata": {},
   "outputs": [],
   "source": [
    "lb07A = pd.read_csv(\"datasets/LB-07A.csv\").dropna()\n",
    "lb08A = pd.read_csv(\"datasets/LB-08A.csv\").dropna()"
   ]
  },
  {
   "cell_type": "code",
   "execution_count": 3,
   "metadata": {},
   "outputs": [
    {
     "data": {
      "text/plain": [
       "Greywacke                      285\n",
       "shale slate phyllite schist     64\n",
       "polymict lithic breccia         52\n",
       "suevite                         18\n",
       "Name: lithology, dtype: int64"
      ]
     },
     "execution_count": 3,
     "metadata": {},
     "output_type": "execute_result"
    }
   ],
   "source": [
    "lb08A[\"lithology\"].value_counts()"
   ]
  },
  {
   "cell_type": "code",
   "execution_count": 4,
   "metadata": {},
   "outputs": [
    {
     "data": {
      "text/plain": [
       "monomict lithic breccia        104\n",
       "shale slate phyllite schist     94\n",
       "suevite                         90\n",
       "polymict lithic breccia         63\n",
       "metagreywacke                   12\n",
       "Name: lithology, dtype: int64"
      ]
     },
     "execution_count": 4,
     "metadata": {},
     "output_type": "execute_result"
    }
   ],
   "source": [
    "lb07A[\"lithology\"].value_counts()"
   ]
  },
  {
   "cell_type": "code",
   "execution_count": 5,
   "metadata": {},
   "outputs": [
    {
     "data": {
      "text/plain": [
       "metagreywacke                  285\n",
       "shale slate phyllite schist     64\n",
       "polymict lithic breccia         52\n",
       "suevite                         18\n",
       "Name: lithology, dtype: int64"
      ]
     },
     "execution_count": 5,
     "metadata": {},
     "output_type": "execute_result"
    }
   ],
   "source": [
    "lb08A[\"lithology\"].replace({\"Greywacke\": \"metagreywacke\"}, inplace=True)\n",
    "lb08A[\"lithology\"].value_counts()\n"
   ]
  },
  {
   "cell_type": "code",
   "execution_count": 6,
   "metadata": {},
   "outputs": [
    {
     "data": {
      "text/html": [
       "<style>#sk-container-id-1 {color: black;background-color: white;}#sk-container-id-1 pre{padding: 0;}#sk-container-id-1 div.sk-toggleable {background-color: white;}#sk-container-id-1 label.sk-toggleable__label {cursor: pointer;display: block;width: 100%;margin-bottom: 0;padding: 0.3em;box-sizing: border-box;text-align: center;}#sk-container-id-1 label.sk-toggleable__label-arrow:before {content: \"▸\";float: left;margin-right: 0.25em;color: #696969;}#sk-container-id-1 label.sk-toggleable__label-arrow:hover:before {color: black;}#sk-container-id-1 div.sk-estimator:hover label.sk-toggleable__label-arrow:before {color: black;}#sk-container-id-1 div.sk-toggleable__content {max-height: 0;max-width: 0;overflow: hidden;text-align: left;background-color: #f0f8ff;}#sk-container-id-1 div.sk-toggleable__content pre {margin: 0.2em;color: black;border-radius: 0.25em;background-color: #f0f8ff;}#sk-container-id-1 input.sk-toggleable__control:checked~div.sk-toggleable__content {max-height: 200px;max-width: 100%;overflow: auto;}#sk-container-id-1 input.sk-toggleable__control:checked~label.sk-toggleable__label-arrow:before {content: \"▾\";}#sk-container-id-1 div.sk-estimator input.sk-toggleable__control:checked~label.sk-toggleable__label {background-color: #d4ebff;}#sk-container-id-1 div.sk-label input.sk-toggleable__control:checked~label.sk-toggleable__label {background-color: #d4ebff;}#sk-container-id-1 input.sk-hidden--visually {border: 0;clip: rect(1px 1px 1px 1px);clip: rect(1px, 1px, 1px, 1px);height: 1px;margin: -1px;overflow: hidden;padding: 0;position: absolute;width: 1px;}#sk-container-id-1 div.sk-estimator {font-family: monospace;background-color: #f0f8ff;border: 1px dotted black;border-radius: 0.25em;box-sizing: border-box;margin-bottom: 0.5em;}#sk-container-id-1 div.sk-estimator:hover {background-color: #d4ebff;}#sk-container-id-1 div.sk-parallel-item::after {content: \"\";width: 100%;border-bottom: 1px solid gray;flex-grow: 1;}#sk-container-id-1 div.sk-label:hover label.sk-toggleable__label {background-color: #d4ebff;}#sk-container-id-1 div.sk-serial::before {content: \"\";position: absolute;border-left: 1px solid gray;box-sizing: border-box;top: 0;bottom: 0;left: 50%;z-index: 0;}#sk-container-id-1 div.sk-serial {display: flex;flex-direction: column;align-items: center;background-color: white;padding-right: 0.2em;padding-left: 0.2em;position: relative;}#sk-container-id-1 div.sk-item {position: relative;z-index: 1;}#sk-container-id-1 div.sk-parallel {display: flex;align-items: stretch;justify-content: center;background-color: white;position: relative;}#sk-container-id-1 div.sk-item::before, #sk-container-id-1 div.sk-parallel-item::before {content: \"\";position: absolute;border-left: 1px solid gray;box-sizing: border-box;top: 0;bottom: 0;left: 50%;z-index: -1;}#sk-container-id-1 div.sk-parallel-item {display: flex;flex-direction: column;z-index: 1;position: relative;background-color: white;}#sk-container-id-1 div.sk-parallel-item:first-child::after {align-self: flex-end;width: 50%;}#sk-container-id-1 div.sk-parallel-item:last-child::after {align-self: flex-start;width: 50%;}#sk-container-id-1 div.sk-parallel-item:only-child::after {width: 0;}#sk-container-id-1 div.sk-dashed-wrapped {border: 1px dashed gray;margin: 0 0.4em 0.5em 0.4em;box-sizing: border-box;padding-bottom: 0.4em;background-color: white;}#sk-container-id-1 div.sk-label label {font-family: monospace;font-weight: bold;display: inline-block;line-height: 1.2em;}#sk-container-id-1 div.sk-label-container {text-align: center;}#sk-container-id-1 div.sk-container {/* jupyter's `normalize.less` sets `[hidden] { display: none; }` but bootstrap.min.css set `[hidden] { display: none !important; }` so we also need the `!important` here to be able to override the default hidden behavior on the sphinx rendered scikit-learn.org. See: https://github.com/scikit-learn/scikit-learn/issues/21755 */display: inline-block !important;position: relative;}#sk-container-id-1 div.sk-text-repr-fallback {display: none;}</style><div id=\"sk-container-id-1\" class=\"sk-top-container\"><div class=\"sk-text-repr-fallback\"><pre>LabelEncoder()</pre><b>In a Jupyter environment, please rerun this cell to show the HTML representation or trust the notebook. <br />On GitHub, the HTML representation is unable to render, please try loading this page with nbviewer.org.</b></div><div class=\"sk-container\" hidden><div class=\"sk-item\"><div class=\"sk-estimator sk-toggleable\"><input class=\"sk-toggleable__control sk-hidden--visually\" id=\"sk-estimator-id-1\" type=\"checkbox\" checked><label for=\"sk-estimator-id-1\" class=\"sk-toggleable__label sk-toggleable__label-arrow\">LabelEncoder</label><div class=\"sk-toggleable__content\"><pre>LabelEncoder()</pre></div></div></div></div></div>"
      ],
      "text/plain": [
       "LabelEncoder()"
      ]
     },
     "execution_count": 6,
     "metadata": {},
     "output_type": "execute_result"
    }
   ],
   "source": [
    "label_encoder = LabelEncoder()\n",
    "# fit on 07A because it contains labels not in 08A\n",
    "label_encoder.fit(lb07A[\"lithology\"])\n"
   ]
  },
  {
   "cell_type": "code",
   "execution_count": 7,
   "metadata": {},
   "outputs": [],
   "source": [
    "x_train = lb08A.drop([\"lithology\"], axis=1)\n",
    "y_train = label_encoder.transform(lb08A[\"lithology\"])\n",
    "\n",
    "x_test = lb07A.drop([\"lithology\"], axis=1)\n",
    "y_test = label_encoder.transform(lb07A[\"lithology\"])\n"
   ]
  },
  {
   "cell_type": "code",
   "execution_count": 8,
   "metadata": {},
   "outputs": [],
   "source": [
    "from sklearn.metrics import roc_curve, auc, confusion_matrix, accuracy_score\n",
    "from sklearn.metrics import f1_score, recall_score\n",
    "from sklearn.model_selection import cross_validate\n",
    "\n",
    "\n",
    "class Percent(float):\n",
    "    def __str__(self):\n",
    "        return '{:.2%}'.format(self)\n",
    "\n",
    "\n",
    "def get_predictions(estimator):\n",
    "    estimator.fit(x_train, y_train)\n",
    "    prediction = estimator.predict(x_test)\n",
    "    return prediction\n",
    "\n",
    "\n",
    "def generate_scores(file_name, y_predicted):\n",
    "\n",
    "    accuracy = accuracy_score(y_test, y_predicted)\n",
    "    f1 = f1_score(y_test, y_predicted, average=\"weighted\")\n",
    "    recall = recall_score(y_test, y_predicted, average=\"weighted\")\n",
    "\n",
    "    confusion_matrix_df = pd.crosstab(\n",
    "        pd.Series(y_predicted, name=\"Predicted\"), pd.Series(y_test, name=\"Actual\"))\n",
    "\n",
    "    path = \"./08A_07A metrics/\" + file_name + \".txt\"\n",
    "\n",
    "    with open(path, \"w\") as file:\n",
    "        file.writelines([file_name,\n",
    "                         \"\\n\\nAccuracy:    \\t\" + str(Percent(accuracy)),\n",
    "                         \"\\nF1:         \\t\" + str(Percent(f1)),\n",
    "                         \"\\nRecall:     \\t\" + str(Percent(recall)),\n",
    "                         \"\\n\\nConfusion Matrix\\n\",\n",
    "                         confusion_matrix_df.to_string(),\n",
    "                         ])\n",
    "\n",
    "    with open(path, \"r\") as file:\n",
    "        print(file.read())\n",
    "\n",
    "\n",
    "def run(estimator, model_name):\n",
    "    predictions = get_predictions(estimator)\n",
    "    generate_scores(model_name, predictions)\n"
   ]
  },
  {
   "cell_type": "code",
   "execution_count": 9,
   "metadata": {},
   "outputs": [
    {
     "name": "stdout",
     "output_type": "stream",
     "text": [
      "Random Forest\n",
      "\n",
      "Accuracy:    \t2.75%\n",
      "F1:         \t1.90%\n",
      "Recall:     \t2.75%\n",
      "\n",
      "Confusion Matrix\n",
      "Actual     0   1   2   3   4\n",
      "Predicted                   \n",
      "0          6  99  54  30  79\n",
      "2          6   5   0  60   0\n",
      "3          0   0   9   4  11\n"
     ]
    }
   ],
   "source": [
    "rf = RandomForestClassifier(n_jobs=-1, random_state=0)\n",
    "run(rf, \"Random Forest\")\n",
    "\n"
   ]
  },
  {
   "cell_type": "code",
   "execution_count": 10,
   "metadata": {},
   "outputs": [
    {
     "name": "stdout",
     "output_type": "stream",
     "text": [
      "Decision Tree\n",
      "\n",
      "Accuracy:    \t7.44%\n",
      "F1:         \t6.09%\n",
      "Recall:     \t7.44%\n",
      "\n",
      "Confusion Matrix\n",
      "Actual      0   1   2   3   4\n",
      "Predicted                    \n",
      "0          12  48  47  79  76\n",
      "2           0  53   0   0   4\n",
      "3           0   1  14  15  10\n",
      "4           0   2   2   0   0\n"
     ]
    }
   ],
   "source": [
    "from sklearn.tree import DecisionTreeClassifier\n",
    "\n",
    "dt = DecisionTreeClassifier(random_state=0)\n",
    "run(dt, \"Decision Tree\")"
   ]
  },
  {
   "cell_type": "code",
   "execution_count": 11,
   "metadata": {},
   "outputs": [
    {
     "name": "stdout",
     "output_type": "stream",
     "text": [
      "SVM\n",
      "\n",
      "Accuracy:    \t3.31%\n",
      "F1:         \t0.21%\n",
      "Recall:     \t3.31%\n",
      "\n",
      "Confusion Matrix\n",
      "Actual      0    1   2   3   4\n",
      "Predicted                     \n",
      "0          12  104  63  94  90\n"
     ]
    }
   ],
   "source": [
    "from sklearn.svm import SVC\n",
    "\n",
    "svc = SVC()\n",
    "run(svc, \"SVM\")"
   ]
  },
  {
   "cell_type": "code",
   "execution_count": 12,
   "metadata": {},
   "outputs": [
    {
     "name": "stdout",
     "output_type": "stream",
     "text": [
      "Gaussian Naive Bayes\n",
      "\n",
      "Accuracy:    \t5.23%\n",
      "F1:         \t3.42%\n",
      "Recall:     \t5.23%\n",
      "\n",
      "Confusion Matrix\n",
      "Actual      0   1   2   3   4\n",
      "Predicted                    \n",
      "0          12  72  61  80  68\n",
      "2           0  32   2   9  22\n",
      "3           0   0   0   5   0\n"
     ]
    }
   ],
   "source": [
    "from sklearn.naive_bayes import GaussianNB\n",
    "\n",
    "gnb = GaussianNB()\n",
    "run(gnb, \"Gaussian Naive Bayes\")"
   ]
  },
  {
   "cell_type": "code",
   "execution_count": 13,
   "metadata": {},
   "outputs": [
    {
     "name": "stdout",
     "output_type": "stream",
     "text": [
      "Logistic Regression\n",
      "\n",
      "Accuracy:    \t3.31%\n",
      "F1:         \t0.21%\n",
      "Recall:     \t3.31%\n",
      "\n",
      "Confusion Matrix\n",
      "Actual      0    1   2   3   4\n",
      "Predicted                     \n",
      "0          12  101  63  94  90\n",
      "2           0    3   0   0   0\n"
     ]
    }
   ],
   "source": [
    "from sklearn.linear_model import LogisticRegression\n",
    "\n",
    "lg = LogisticRegression(n_jobs=-1, max_iter=1000)\n",
    "run(lg, \"Logistic Regression\")"
   ]
  },
  {
   "cell_type": "code",
   "execution_count": 14,
   "metadata": {},
   "outputs": [
    {
     "name": "stdout",
     "output_type": "stream",
     "text": [
      "KNN\n",
      "\n",
      "Accuracy:    \t5.79%\n",
      "F1:         \t2.98%\n",
      "Recall:     \t5.79%\n",
      "\n",
      "Confusion Matrix\n",
      "Actual      0    1   2   3   4\n",
      "Predicted                     \n",
      "0          12  100  36  85  52\n",
      "3           0    4  27   9  38\n"
     ]
    }
   ],
   "source": [
    "from sklearn.neighbors import KNeighborsClassifier\n",
    "\n",
    "knn = KNeighborsClassifier(n_jobs=-1)\n",
    "run(knn, \"KNN\")"
   ]
  }
 ],
 "metadata": {
  "kernelspec": {
   "display_name": "Python 3.10.7 64-bit",
   "language": "python",
   "name": "python3"
  },
  "language_info": {
   "codemirror_mode": {
    "name": "ipython",
    "version": 3
   },
   "file_extension": ".py",
   "mimetype": "text/x-python",
   "name": "python",
   "nbconvert_exporter": "python",
   "pygments_lexer": "ipython3",
   "version": "3.10.7"
  },
  "orig_nbformat": 4,
  "vscode": {
   "interpreter": {
    "hash": "26de051ba29f2982a8de78e945f0abaf191376122a1563185a90213a26c5da77"
   }
  }
 },
 "nbformat": 4,
 "nbformat_minor": 2
}
